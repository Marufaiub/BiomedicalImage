{
 "cells": [
  {
   "attachments": {},
   "cell_type": "markdown",
   "metadata": {},
   "source": [
    "**Understanding digital images for Python processing**"
   ]
  },
  {
   "cell_type": "code",
   "execution_count": 9,
   "metadata": {},
   "outputs": [
    {
     "name": "stdout",
     "output_type": "stream",
     "text": [
      "7 255\n",
      "0.027450980392156862 1.0\n"
     ]
    }
   ],
   "source": [
    "from skimage import io\n",
    "import numpy as np\n",
    "from matplotlib import pyplot as plt\n",
    "from skimage import img_as_float\n",
    "\n",
    "my_image=io.imread(\"images/image1.jpg\")\n",
    "print(my_image.min(), my_image.max())\n",
    "\n",
    "my_float_image = img_as_float(my_image)\n",
    "print(my_float_image.min(), my_float_image.max())\n",
    "plt.imshow(my_float_image)\n",
    "\n",
    "# random_image= np.random.random([500, 500])\n",
    "# plt.imshow(random_image)\n",
    "# print(random_image.min(), random_image.max())"
   ]
  }
 ],
 "metadata": {
  "kernelspec": {
   "display_name": "bioImage",
   "language": "python",
   "name": "python3"
  },
  "language_info": {
   "codemirror_mode": {
    "name": "ipython",
    "version": 3
   },
   "file_extension": ".py",
   "mimetype": "text/x-python",
   "name": "python",
   "nbconvert_exporter": "python",
   "pygments_lexer": "ipython3",
   "version": "3.8.10"
  },
  "orig_nbformat": 4,
  "vscode": {
   "interpreter": {
    "hash": "39146f25b4ade83e52d81844e7acbd67abe997985a3a7698727261dc04b767a7"
   }
  }
 },
 "nbformat": 4,
 "nbformat_minor": 2
}
